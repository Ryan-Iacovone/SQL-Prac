{
 "cells": [
  {
   "cell_type": "markdown",
   "metadata": {},
   "source": [
    "psycopg2=postgres  &  pymysql=mysql"
   ]
  },
  {
   "cell_type": "markdown",
   "metadata": {},
   "source": [
    "# Connect to microsoft sql db "
   ]
  },
  {
   "cell_type": "code",
   "execution_count": null,
   "metadata": {},
   "outputs": [],
   "source": [
    "# First, install the required package if you haven't already\n",
    "# pip install pyodbc\n",
    "# Install sqlalchemy if you haven't already\n",
    "\n",
    "import pandas as pd\n",
    "from sqlalchemy import create_engine, text\n",
    "import urllib\n",
    "\n",
    "# Create connection string for SQLAlchemy\n",
    "params = urllib.parse.quote_plus(\n",
    "    'DRIVER={SQL Server};'\n",
    "    'SERVER=localhost\\\\SQLEXPRESS;'\n",
    "    'Trusted_Connection=yes;'\n",
    "    'DATABASE=TestDB;'  # Specify database directly in connection\n",
    ")\n",
    "\n",
    "# Create SQLAlchemy engine\n",
    "engine = create_engine(f'mssql+pyodbc:///?odbc_connect={params}')\n",
    "\n",
    "with engine.connect() as connection:\n",
    "    customers = pd.read_sql_query(text('SELECT * FROM Customers'), connection)"
   ]
  },
  {
   "cell_type": "markdown",
   "metadata": {},
   "source": [
    "# Gather video game data from unofficial overwatch API "
   ]
  },
  {
   "cell_type": "code",
   "execution_count": null,
   "metadata": {},
   "outputs": [],
   "source": [
    "import requests \n",
    "\n",
    "platform = \"pc\"\n",
    "user = \"wildwolf-199415\"\n",
    "\n",
    "url = f\"https://ow-api.com/v1/stats/{platform}/us/{user}/complete\"\n",
    "\n",
    "# Send the HTTP GET request to the API and parse the JSON response\n",
    "response = requests.get(url)\n",
    "data = response.json()\n",
    "\n",
    "save_folder = r\"C:\\Users\\Ryan\\Coding Projects\\SQL\"\n",
    "file_path = os.path.join(save_folder, 'overwatch_db.json')\n",
    "\n",
    "# Writing the json file \n",
    "with open(file_path, 'w') as f:\n",
    "    json.dump(data, f, indent=4)\n",
    "\n",
    "# Opening the json file\n",
    "with open(file_path, 'r') as f:\n",
    "    overwatch_db = json.load(f)"
   ]
  },
  {
   "cell_type": "markdown",
   "metadata": {},
   "source": [
    "# Read in Overwatch db from local json"
   ]
  },
  {
   "cell_type": "code",
   "execution_count": null,
   "metadata": {},
   "outputs": [],
   "source": [
    "import json\n",
    "import os\n",
    "\n",
    "save_folder = r\"C:\\Users\\Ryan\\Coding Projects\\SQL\"\n",
    "file_path = os.path.join(save_folder, 'overwatch_db.json')\n",
    "\n",
    "with open(file_path, 'r') as f:\n",
    "    overwatch_db = json.load(f)"
   ]
  },
  {
   "cell_type": "markdown",
   "metadata": {},
   "source": [
    "## QP top heros "
   ]
  },
  {
   "cell_type": "code",
   "execution_count": null,
   "metadata": {},
   "outputs": [],
   "source": [
    "import pandas as pd\n",
    "\n",
    "temp_json = overwatch_db['quickPlayStats']['topHeroes']\n",
    "\n",
    "QP_Top_Heros = pd.DataFrame(temp_json)\n",
    "\n",
    "# Simple transpose to flip columns and rows\n",
    "QP_Top_Heros =  QP_Top_Heros.T"
   ]
  },
  {
   "cell_type": "markdown",
   "metadata": {},
   "source": [
    "## QP career stats & postgres sql"
   ]
  },
  {
   "cell_type": "code",
   "execution_count": null,
   "metadata": {},
   "outputs": [],
   "source": [
    "# Load in data from json\n",
    "\n",
    "import pandas as pd\n",
    "import json\n",
    "import os\n",
    "\n",
    "save_folder = r\"C:\\Users\\Ryan\\Coding Projects\\SQL\"\n",
    "file_path = os.path.join(save_folder, 'overwatch_db.json')\n",
    "\n",
    "with open(file_path, 'r') as f:\n",
    "    overwatch_db = json.load(f)\n",
    "\n",
    "t_json = overwatch_db['quickPlayStats']['careerStats']\n",
    "\n",
    "# Changing dict/json to df and transposing it to flip columns and rows\n",
    "qp_career_stats = pd.DataFrame(t_json).T"
   ]
  },
  {
   "cell_type": "code",
   "execution_count": null,
   "metadata": {},
   "outputs": [],
   "source": [
    "# Function to extract the dictionary from each column except for \"heroSpecific\" and make each dict pairing into their own column and row  \n",
    "\n",
    "def expand_dict(qp_career_stats):\n",
    "\n",
    "    # Put all column names from df into a list  \n",
    "    dict_columns = qp_career_stats.columns.to_list()\n",
    "\n",
    "    # Deleting heroSpecific from the column list (will be it's own db)\n",
    "    del dict_columns[4]\n",
    "\n",
    "    for col in dict_columns:\n",
    "        # Expand each dictionary column by using a pd.Series to create a new row for each dictionary it encounters with the dictionary keys as column names and values as the row data.pandas series\n",
    "        expanded_cols = qp_career_stats[col].apply(lambda x: pd.Series(x, dtype=\"object\"))\n",
    "        \n",
    "        # Rename new columns to include original column name as a prefix\n",
    "        expanded_cols = expanded_cols.add_prefix(f\"{col}_\")\n",
    "        \n",
    "        # Concatenate the expanded columns with the original DataFrame\n",
    "        qp_career_stats = pd.concat([qp_career_stats, expanded_cols], axis=1)\n",
    "\n",
    "        # Drop the original dictionary column\n",
    "        qp_career_stats = qp_career_stats.drop(columns=[col])\n",
    "    \n",
    "    return qp_career_stats\n",
    "\n",
    "qp_career_stats = expand_dict(qp_career_stats)"
   ]
  },
  {
   "cell_type": "code",
   "execution_count": null,
   "metadata": {},
   "outputs": [],
   "source": [
    "# sql db cannot handle dictionaries in columns\n",
    "qp_career_stats = qp_career_stats.drop(columns=[\"heroSpecific\"])"
   ]
  },
  {
   "cell_type": "markdown",
   "metadata": {},
   "source": [
    "### Transfering the pandas df to a postgres sql table "
   ]
  },
  {
   "cell_type": "code",
   "execution_count": null,
   "metadata": {},
   "outputs": [],
   "source": [
    "from sqlalchemy import create_engine\n",
    "import pandas as pd\n",
    "from dotenv import load_dotenv\n",
    "import os\n",
    "\n",
    "def df_to_postgresql(df, name):\n",
    "\n",
    "    # Load variables from .env file\n",
    "    load_dotenv()\n",
    "    \n",
    "    # Create an SQLAlchemy engine\n",
    "    engine = create_engine(os.getenv(\"postgres_cs\"))\n",
    "\n",
    "    # name parameter sets the table name\n",
    "    df.to_sql(name = name, con=engine, if_exists='replace', index=True)\n",
    "\n",
    "    # After using the engine to interact with the database\n",
    "    engine.dispose()\n",
    "\n",
    "df_to_postgresql(qp_career_stats, \"qp_career_stats\")"
   ]
  },
  {
   "cell_type": "markdown",
   "metadata": {},
   "source": [
    "### Reading in postgres db to pandas db with parameters"
   ]
  },
  {
   "cell_type": "code",
   "execution_count": null,
   "metadata": {},
   "outputs": [],
   "source": [
    "import pandas as pd\n",
    "import os\n",
    "from sqlalchemy import create_engine, text\n",
    "\n",
    "# Create an SQLAlchemy engine\n",
    "engine = create_engine(os.getenv(\"postgres_cs\"))\n",
    "\n",
    "# read_sql_query simple \n",
    "with engine.connect() as connection:\n",
    "    df = pd.read_sql_query(\n",
    "        text(\"SELECT * FROM prints\"),\n",
    "        connection)\n",
    "\n",
    "# Using specific columns and conditions\n",
    "with engine.connect() as connection:\n",
    "    query = text(\"\"\"\n",
    "        SELECT card_number, name, color, print_completed\n",
    "        FROM prints\n",
    "        WHERE color = :color\"\"\")\n",
    "    \n",
    "    df_filtered = pd.read_sql_query(\n",
    "        query,\n",
    "        connection,\n",
    "        params={\"color\": \"Blue\"})"
   ]
  },
  {
   "cell_type": "markdown",
   "metadata": {},
   "source": [
    "### Read, modify, then update SQL db\n",
    "\n",
    "Hypothetical: read in data from sql, then execute patron_contacting email script from 3d printing, results in new df called df_filtered, update existing sql db with df_filtered "
   ]
  },
  {
   "cell_type": "code",
   "execution_count": 2,
   "metadata": {},
   "outputs": [],
   "source": [
    "# Read in data from sql with specific paramters\n",
    "\n",
    "import pandas as pd\n",
    "import os\n",
    "from sqlalchemy import create_engine, text\n",
    "\n",
    "# Create an SQLAlchemy engine\n",
    "engine = create_engine(os.getenv(\"postgres_cs\"))\n",
    "\n",
    "# read_sql_query simple \n",
    "with engine.connect() as connection:\n",
    "    df_filter = pd.read_sql_query(\n",
    "        text(\"\"\"SELECT * FROM prints\n",
    "                WHERE print_completed = 'X'\n",
    "                AND patron_contacted IS NULL\n",
    "                AND invalid_email IS NULL\n",
    "                AND picked_up IS NULL\"\"\"),\n",
    "        connection)"
   ]
  },
  {
   "cell_type": "code",
   "execution_count": null,
   "metadata": {},
   "outputs": [],
   "source": [
    "# Mimicking sending out emails to patrons (this is the resulting df), results in df_filter\n",
    "\n",
    "import datetime as dt\n",
    "# Assuming `df_filter` is a pandas DataFrame\n",
    "df_filter.loc[df_filter[\"print_completed\"] == \"X\", \"patron_contacted\"] = \"X\"\n",
    "\n",
    "today_str = dt.date.today().strftime(\"%m/%d/%y\") \n",
    "today_date = dt.datetime.strptime(today_str, \"%m/%d/%y\").date()\n",
    "df_filter.loc[df_filter[\"print_completed\"] == \"X\", \"contacted_date\"] = today_date"
   ]
  },
  {
   "cell_type": "code",
   "execution_count": null,
   "metadata": {},
   "outputs": [
    {
     "name": "stdout",
     "output_type": "stream",
     "text": [
      "Successfully updated 2 records in the database\n"
     ]
    }
   ],
   "source": [
    "# Updates sql db based on new inputs from df_filtered \n",
    "\n",
    "# Update query\n",
    "update_query = \"\"\"\n",
    "    UPDATE prints \n",
    "    SET patron_contacted = :patron_contacted,\n",
    "        contacted_date = :contacted_date,\n",
    "        invalid_email = :invalid_email\n",
    "    WHERE card_number = :card_number\n",
    "\"\"\"\n",
    "\n",
    "# Convert DataFrame rows to list of dictionaries for batch update (connection.execute used dictionaries as input for the parameters function)\n",
    "records_to_update = df_filter.to_dict('records')\n",
    "\n",
    "# Establish connection and execute updates\n",
    "with engine.begin() as connection:\n",
    "    try:\n",
    "        for record in records_to_update:\n",
    "            connection.execute(\n",
    "                text(update_query),\n",
    "                parameters=record)\n",
    "\n",
    "        print(f\"Successfully updated {len(records_to_update)} records in the database\")\n",
    "        \n",
    "    except Exception as e:\n",
    "        print(f\"Error updating database: {str(e)}\")\n",
    "        connection.rollback() # If an error occurs during the database update process, any partial or uncommitted changes made during the transaction are undone.\n",
    "        raise\n",
    "\n",
    "# Release and clean up all database connections managed by the SQLAlchemy engine \n",
    "engine.dispose()"
   ]
  },
  {
   "cell_type": "markdown",
   "metadata": {},
   "source": [
    "## MYSQL db "
   ]
  },
  {
   "cell_type": "code",
   "execution_count": null,
   "metadata": {},
   "outputs": [],
   "source": [
    "from sqlalchemy import create_engine, text\n",
    "from urllib.parse import quote_plus\n",
    "import pandas as pd\n",
    "import os \n",
    "from dotenv import load_dotenv\n",
    "\n",
    "def load_mysql_db(db): \n",
    "\n",
    "    load_dotenv()\n",
    "\n",
    "    # Define your credentials\n",
    "    username = 'root'\n",
    "    password = quote_plus(os.getenv(\"mysql_pass\"))  # Encodes the special characters\n",
    "    host = 'localhost' \n",
    "    port = 3306\n",
    "    database = db\n",
    "\n",
    "    # Create the connection string\n",
    "    connection_string = f\"mysql+pymysql://{username}:{password}@{host}:{port}/{database}\"\n",
    "\n",
    "    # Create the SQLAlchemy engine\n",
    "    engine = create_engine(connection_string)\n",
    "\n",
    "    # Test the connection\n",
    "    try:\n",
    "        with engine.connect() as connection:\n",
    "            # Use pd.read_sql_query to fetch data\n",
    "            df = pd.read_sql_query(text(\"SELECT * FROM city\"), connection)\n",
    "            print(df)\n",
    "    except Exception as e:\n",
    "        print(f\"Connection failed: {e}\")\n",
    "    \n",
    "    return df\n",
    "\n",
    "\n",
    "df = load_mysql_db(\"sakila\")"
   ]
  },
  {
   "cell_type": "code",
   "execution_count": 1,
   "metadata": {},
   "outputs": [
    {
     "name": "stdout",
     "output_type": "stream",
     "text": [
      "((1, 'A Coruña (La Coruña)', 87, datetime.datetime(2006, 2, 15, 4, 45, 25)), (2, 'Abha', 82, datetime.datetime(2006, 2, 15, 4, 45, 25)), (3, 'Abu Dhabi', 101, datetime.datetime(2006, 2, 15, 4, 45, 25)), (4, 'Acuña', 60, datetime.datetime(2006, 2, 15, 4, 45, 25)), (5, 'Adana', 97, datetime.datetime(2006, 2, 15, 4, 45, 25)), (6, 'Addis Abeba', 31, datetime.datetime(2006, 2, 15, 4, 45, 25)), (7, 'Aden', 107, datetime.datetime(2006, 2, 15, 4, 45, 25)), (8, 'Adoni', 44, datetime.datetime(2006, 2, 15, 4, 45, 25)), (9, 'Ahmadnagar', 44, datetime.datetime(2006, 2, 15, 4, 45, 25)), (10, 'Akishima', 50, datetime.datetime(2006, 2, 15, 4, 45, 25)), (11, 'Akron', 103, datetime.datetime(2006, 2, 15, 4, 45, 25)), (12, 'al-Ayn', 101, datetime.datetime(2006, 2, 15, 4, 45, 25)), (13, 'al-Hawiya', 82, datetime.datetime(2006, 2, 15, 4, 45, 25)), (14, 'al-Manama', 11, datetime.datetime(2006, 2, 15, 4, 45, 25)), (15, 'al-Qadarif', 89, datetime.datetime(2006, 2, 15, 4, 45, 25)), (16, 'al-Qatif', 82, datetime.datetime(2006, 2, 15, 4, 45, 25)), (17, 'Alessandria', 49, datetime.datetime(2006, 2, 15, 4, 45, 25)), (18, 'Allappuzha (Alleppey)', 44, datetime.datetime(2006, 2, 15, 4, 45, 25)), (19, 'Allende', 60, datetime.datetime(2006, 2, 15, 4, 45, 25)), (20, 'Almirante Brown', 6, datetime.datetime(2006, 2, 15, 4, 45, 25)), (21, 'Alvorada', 15, datetime.datetime(2006, 2, 15, 4, 45, 25)), (22, 'Ambattur', 44, datetime.datetime(2006, 2, 15, 4, 45, 25)), (23, 'Amersfoort', 67, datetime.datetime(2006, 2, 15, 4, 45, 25)), (24, 'Amroha', 44, datetime.datetime(2006, 2, 15, 4, 45, 25)), (25, 'Angra dos Reis', 15, datetime.datetime(2006, 2, 15, 4, 45, 25)), (26, 'Anápolis', 15, datetime.datetime(2006, 2, 15, 4, 45, 25)), (27, 'Antofagasta', 22, datetime.datetime(2006, 2, 15, 4, 45, 25)), (28, 'Aparecida de Goiânia', 15, datetime.datetime(2006, 2, 15, 4, 45, 25)), (29, 'Apeldoorn', 67, datetime.datetime(2006, 2, 15, 4, 45, 25)), (30, 'Araçatuba', 15, datetime.datetime(2006, 2, 15, 4, 45, 25)), (31, 'Arak', 46, datetime.datetime(2006, 2, 15, 4, 45, 25)), (32, 'Arecibo', 77, datetime.datetime(2006, 2, 15, 4, 45, 25)), (33, 'Arlington', 103, datetime.datetime(2006, 2, 15, 4, 45, 25)), (34, 'Ashdod', 48, datetime.datetime(2006, 2, 15, 4, 45, 25)), (35, 'Ashgabat', 98, datetime.datetime(2006, 2, 15, 4, 45, 25)), (36, 'Ashqelon', 48, datetime.datetime(2006, 2, 15, 4, 45, 25)), (37, 'Asunción', 73, datetime.datetime(2006, 2, 15, 4, 45, 25)), (38, 'Athenai', 39, datetime.datetime(2006, 2, 15, 4, 45, 25)), (39, 'Atšinsk', 80, datetime.datetime(2006, 2, 15, 4, 45, 25)), (40, 'Atlixco', 60, datetime.datetime(2006, 2, 15, 4, 45, 25)), (41, 'Augusta-Richmond County', 103, datetime.datetime(2006, 2, 15, 4, 45, 25)), (42, 'Aurora', 103, datetime.datetime(2006, 2, 15, 4, 45, 25)), (43, 'Avellaneda', 6, datetime.datetime(2006, 2, 15, 4, 45, 25)), (44, 'Bagé', 15, datetime.datetime(2006, 2, 15, 4, 45, 25)), (45, 'Bahía Blanca', 6, datetime.datetime(2006, 2, 15, 4, 45, 25)), (46, 'Baicheng', 23, datetime.datetime(2006, 2, 15, 4, 45, 25)), (47, 'Baiyin', 23, datetime.datetime(2006, 2, 15, 4, 45, 25)), (48, 'Baku', 10, datetime.datetime(2006, 2, 15, 4, 45, 25)), (49, 'Balašiha', 80, datetime.datetime(2006, 2, 15, 4, 45, 25)), (50, 'Balikesir', 97, datetime.datetime(2006, 2, 15, 4, 45, 25)), (51, 'Balurghat', 44, datetime.datetime(2006, 2, 15, 4, 45, 25)), (52, 'Bamenda', 19, datetime.datetime(2006, 2, 15, 4, 45, 25)), (53, 'Bandar Seri Begawan', 16, datetime.datetime(2006, 2, 15, 4, 45, 25)), (54, 'Banjul', 37, datetime.datetime(2006, 2, 15, 4, 45, 25)), (55, 'Barcelona', 104, datetime.datetime(2006, 2, 15, 4, 45, 25)), (56, 'Basel', 91, datetime.datetime(2006, 2, 15, 4, 45, 25)), (57, 'Bat Yam', 48, datetime.datetime(2006, 2, 15, 4, 45, 25)), (58, 'Batman', 97, datetime.datetime(2006, 2, 15, 4, 45, 25)), (59, 'Batna', 2, datetime.datetime(2006, 2, 15, 4, 45, 25)), (60, 'Battambang', 18, datetime.datetime(2006, 2, 15, 4, 45, 25)), (61, 'Baybay', 75, datetime.datetime(2006, 2, 15, 4, 45, 25)), (62, 'Bayugan', 75, datetime.datetime(2006, 2, 15, 4, 45, 25)), (63, 'Béchar', 2, datetime.datetime(2006, 2, 15, 4, 45, 25)), (64, 'Beira', 63, datetime.datetime(2006, 2, 15, 4, 45, 25)), (65, 'Bellevue', 103, datetime.datetime(2006, 2, 15, 4, 45, 25)), (66, 'Belém', 15, datetime.datetime(2006, 2, 15, 4, 45, 25)), (67, 'Benguela', 4, datetime.datetime(2006, 2, 15, 4, 45, 25)), (68, 'Beni-Mellal', 62, datetime.datetime(2006, 2, 15, 4, 45, 25)), (69, 'Benin City', 69, datetime.datetime(2006, 2, 15, 4, 45, 25)), (70, 'Bergamo', 49, datetime.datetime(2006, 2, 15, 4, 45, 25)), (71, 'Berhampore (Baharampur)', 44, datetime.datetime(2006, 2, 15, 4, 45, 25)), (72, 'Bern', 91, datetime.datetime(2006, 2, 15, 4, 45, 25)), (73, 'Bhavnagar', 44, datetime.datetime(2006, 2, 15, 4, 45, 25)), (74, 'Bhilwara', 44, datetime.datetime(2006, 2, 15, 4, 45, 25)), (75, 'Bhimavaram', 44, datetime.datetime(2006, 2, 15, 4, 45, 25)), (76, 'Bhopal', 44, datetime.datetime(2006, 2, 15, 4, 45, 25)), (77, 'Bhusawal', 44, datetime.datetime(2006, 2, 15, 4, 45, 25)), (78, 'Bijapur', 44, datetime.datetime(2006, 2, 15, 4, 45, 25)), (79, 'Bilbays', 29, datetime.datetime(2006, 2, 15, 4, 45, 25)), (80, 'Binzhou', 23, datetime.datetime(2006, 2, 15, 4, 45, 25)), (81, 'Birgunj', 66, datetime.datetime(2006, 2, 15, 4, 45, 25)), (82, 'Bislig', 75, datetime.datetime(2006, 2, 15, 4, 45, 25)), (83, 'Blumenau', 15, datetime.datetime(2006, 2, 15, 4, 45, 25)), (84, 'Boa Vista', 15, datetime.datetime(2006, 2, 15, 4, 45, 25)), (85, 'Boksburg', 85, datetime.datetime(2006, 2, 15, 4, 45, 25)), (86, 'Botosani', 78, datetime.datetime(2006, 2, 15, 4, 45, 25)), (87, 'Botshabelo', 85, datetime.datetime(2006, 2, 15, 4, 45, 25)), (88, 'Bradford', 102, datetime.datetime(2006, 2, 15, 4, 45, 25)), (89, 'Brasília', 15, datetime.datetime(2006, 2, 15, 4, 45, 25)), (90, 'Bratislava', 84, datetime.datetime(2006, 2, 15, 4, 45, 25)), (91, 'Brescia', 49, datetime.datetime(2006, 2, 15, 4, 45, 25)), (92, 'Brest', 34, datetime.datetime(2006, 2, 15, 4, 45, 25)), (93, 'Brindisi', 49, datetime.datetime(2006, 2, 15, 4, 45, 25)), (94, 'Brockton', 103, datetime.datetime(2006, 2, 15, 4, 45, 25)), (95, 'Bucuresti', 78, datetime.datetime(2006, 2, 15, 4, 45, 25)), (96, 'Buenaventura', 24, datetime.datetime(2006, 2, 15, 4, 45, 25)), (97, 'Bydgoszcz', 76, datetime.datetime(2006, 2, 15, 4, 45, 25)), (98, 'Cabuyao', 75, datetime.datetime(2006, 2, 15, 4, 45, 25)), (99, 'Callao', 74, datetime.datetime(2006, 2, 15, 4, 45, 25)), (100, 'Cam Ranh', 105, datetime.datetime(2006, 2, 15, 4, 45, 25)), (101, 'Cape Coral', 103, datetime.datetime(2006, 2, 15, 4, 45, 25)), (102, 'Caracas', 104, datetime.datetime(2006, 2, 15, 4, 45, 25)), (103, 'Carmen', 60, datetime.datetime(2006, 2, 15, 4, 45, 25)), (104, 'Cavite', 75, datetime.datetime(2006, 2, 15, 4, 45, 25)), (105, 'Cayenne', 35, datetime.datetime(2006, 2, 15, 4, 45, 25)), (106, 'Celaya', 60, datetime.datetime(2006, 2, 15, 4, 45, 25)), (107, 'Chandrapur', 44, datetime.datetime(2006, 2, 15, 4, 45, 25)), (108, 'Changhwa', 92, datetime.datetime(2006, 2, 15, 4, 45, 25)), (109, 'Changzhou', 23, datetime.datetime(2006, 2, 15, 4, 45, 25)), (110, 'Chapra', 44, datetime.datetime(2006, 2, 15, 4, 45, 25)), (111, 'Charlotte Amalie', 106, datetime.datetime(2006, 2, 15, 4, 45, 25)), (112, 'Chatsworth', 85, datetime.datetime(2006, 2, 15, 4, 45, 25)), (113, 'Cheju', 86, datetime.datetime(2006, 2, 15, 4, 45, 25)), (114, 'Chiayi', 92, datetime.datetime(2006, 2, 15, 4, 45, 25)), (115, 'Chisinau', 61, datetime.datetime(2006, 2, 15, 4, 45, 25)), (116, 'Chungho', 92, datetime.datetime(2006, 2, 15, 4, 45, 25)), (117, 'Cianjur', 45, datetime.datetime(2006, 2, 15, 4, 45, 25)), (118, 'Ciomas', 45, datetime.datetime(2006, 2, 15, 4, 45, 25)), (119, 'Ciparay', 45, datetime.datetime(2006, 2, 15, 4, 45, 25)), (120, 'Citrus Heights', 103, datetime.datetime(2006, 2, 15, 4, 45, 25)), (121, 'Città del Vaticano', 41, datetime.datetime(2006, 2, 15, 4, 45, 25)), (122, 'Ciudad del Este', 73, datetime.datetime(2006, 2, 15, 4, 45, 25)), (123, 'Clarksville', 103, datetime.datetime(2006, 2, 15, 4, 45, 25)), (124, 'Coacalco de Berriozábal', 60, datetime.datetime(2006, 2, 15, 4, 45, 25)), (125, 'Coatzacoalcos', 60, datetime.datetime(2006, 2, 15, 4, 45, 25)), (126, 'Compton', 103, datetime.datetime(2006, 2, 15, 4, 45, 25)), (127, 'Coquimbo', 22, datetime.datetime(2006, 2, 15, 4, 45, 25)), (128, 'Córdoba', 6, datetime.datetime(2006, 2, 15, 4, 45, 25)), (129, 'Cuauhtémoc', 60, datetime.datetime(2006, 2, 15, 4, 45, 25)), (130, 'Cuautla', 60, datetime.datetime(2006, 2, 15, 4, 45, 25)), (131, 'Cuernavaca', 60, datetime.datetime(2006, 2, 15, 4, 45, 25)), (132, 'Cumaná', 104, datetime.datetime(2006, 2, 15, 4, 45, 25)), (133, 'Czestochowa', 76, datetime.datetime(2006, 2, 15, 4, 45, 25)), (134, 'Dadu', 72, datetime.datetime(2006, 2, 15, 4, 45, 25)), (135, 'Dallas', 103, datetime.datetime(2006, 2, 15, 4, 45, 25)), (136, 'Datong', 23, datetime.datetime(2006, 2, 15, 4, 45, 25)), (137, 'Daugavpils', 54, datetime.datetime(2006, 2, 15, 4, 45, 25)), (138, 'Davao', 75, datetime.datetime(2006, 2, 15, 4, 45, 25)), (139, 'Daxian', 23, datetime.datetime(2006, 2, 15, 4, 45, 25)), (140, 'Dayton', 103, datetime.datetime(2006, 2, 15, 4, 45, 25)), (141, 'Deba Habe', 69, datetime.datetime(2006, 2, 15, 4, 45, 25)), (142, 'Denizli', 97, datetime.datetime(2006, 2, 15, 4, 45, 25)), (143, 'Dhaka', 12, datetime.datetime(2006, 2, 15, 4, 45, 25)), (144, 'Dhule (Dhulia)', 44, datetime.datetime(2006, 2, 15, 4, 45, 25)), (145, 'Dongying', 23, datetime.datetime(2006, 2, 15, 4, 45, 25)), (146, 'Donostia-San Sebastián', 87, datetime.datetime(2006, 2, 15, 4, 45, 25)), (147, 'Dos Quebradas', 24, datetime.datetime(2006, 2, 15, 4, 45, 25)), (148, 'Duisburg', 38, datetime.datetime(2006, 2, 15, 4, 45, 25)), (149, 'Dundee', 102, datetime.datetime(2006, 2, 15, 4, 45, 25)), (150, 'Dzerzinsk', 80, datetime.datetime(2006, 2, 15, 4, 45, 25)), (151, 'Ede', 67, datetime.datetime(2006, 2, 15, 4, 45, 25)), (152, 'Effon-Alaiye', 69, datetime.datetime(2006, 2, 15, 4, 45, 25)), (153, 'El Alto', 14, datetime.datetime(2006, 2, 15, 4, 45, 25)), (154, 'El Fuerte', 60, datetime.datetime(2006, 2, 15, 4, 45, 25)), (155, 'El Monte', 103, datetime.datetime(2006, 2, 15, 4, 45, 25)), (156, 'Elista', 80, datetime.datetime(2006, 2, 15, 4, 45, 25)), (157, 'Emeishan', 23, datetime.datetime(2006, 2, 15, 4, 45, 25)), (158, 'Emmen', 67, datetime.datetime(2006, 2, 15, 4, 45, 25)), (159, 'Enshi', 23, datetime.datetime(2006, 2, 15, 4, 45, 25)), (160, 'Erlangen', 38, datetime.datetime(2006, 2, 15, 4, 45, 25)), (161, 'Escobar', 6, datetime.datetime(2006, 2, 15, 4, 45, 25)), (162, 'Esfahan', 46, datetime.datetime(2006, 2, 15, 4, 45, 25)), (163, 'Eskisehir', 97, datetime.datetime(2006, 2, 15, 4, 45, 25)), (164, 'Etawah', 44, datetime.datetime(2006, 2, 15, 4, 45, 25)), (165, 'Ezeiza', 6, datetime.datetime(2006, 2, 15, 4, 45, 25)), (166, 'Ezhou', 23, datetime.datetime(2006, 2, 15, 4, 45, 25)), (167, 'Faaa', 36, datetime.datetime(2006, 2, 15, 4, 45, 25)), (168, 'Fengshan', 92, datetime.datetime(2006, 2, 15, 4, 45, 25)), (169, 'Firozabad', 44, datetime.datetime(2006, 2, 15, 4, 45, 25)), (170, 'Florencia', 24, datetime.datetime(2006, 2, 15, 4, 45, 25)), (171, 'Fontana', 103, datetime.datetime(2006, 2, 15, 4, 45, 25)), (172, 'Fukuyama', 50, datetime.datetime(2006, 2, 15, 4, 45, 25)), (173, 'Funafuti', 99, datetime.datetime(2006, 2, 15, 4, 45, 25)), (174, 'Fuyu', 23, datetime.datetime(2006, 2, 15, 4, 45, 25)), (175, 'Fuzhou', 23, datetime.datetime(2006, 2, 15, 4, 45, 25)), (176, 'Gandhinagar', 44, datetime.datetime(2006, 2, 15, 4, 45, 25)), (177, 'Garden Grove', 103, datetime.datetime(2006, 2, 15, 4, 45, 25)), (178, 'Garland', 103, datetime.datetime(2006, 2, 15, 4, 45, 25)), (179, 'Gatineau', 20, datetime.datetime(2006, 2, 15, 4, 45, 25)), (180, 'Gaziantep', 97, datetime.datetime(2006, 2, 15, 4, 45, 25)), (181, 'Gijón', 87, datetime.datetime(2006, 2, 15, 4, 45, 25)), (182, 'Gingoog', 75, datetime.datetime(2006, 2, 15, 4, 45, 25)), (183, 'Goiânia', 15, datetime.datetime(2006, 2, 15, 4, 45, 25)), (184, 'Gorontalo', 45, datetime.datetime(2006, 2, 15, 4, 45, 25)), (185, 'Grand Prairie', 103, datetime.datetime(2006, 2, 15, 4, 45, 25)), (186, 'Graz', 9, datetime.datetime(2006, 2, 15, 4, 45, 25)), (187, 'Greensboro', 103, datetime.datetime(2006, 2, 15, 4, 45, 25)), (188, 'Guadalajara', 60, datetime.datetime(2006, 2, 15, 4, 45, 25)), (189, 'Guarujá', 15, datetime.datetime(2006, 2, 15, 4, 45, 25)), (190, 'Águas Lindas de Goiás', 15, datetime.datetime(2006, 2, 15, 4, 45, 25)), (191, 'Gulbarga', 44, datetime.datetime(2006, 2, 15, 4, 45, 25)), (192, 'Hagonoy', 75, datetime.datetime(2006, 2, 15, 4, 45, 25)), (193, 'Haining', 23, datetime.datetime(2006, 2, 15, 4, 45, 25)), (194, 'Haiphong', 105, datetime.datetime(2006, 2, 15, 4, 45, 25)), (195, 'Haldia', 44, datetime.datetime(2006, 2, 15, 4, 45, 25)), (196, 'Halifax', 20, datetime.datetime(2006, 2, 15, 4, 45, 25)), (197, 'Halisahar', 44, datetime.datetime(2006, 2, 15, 4, 45, 25)), (198, 'Halle/Saale', 38, datetime.datetime(2006, 2, 15, 4, 45, 25)), (199, 'Hami', 23, datetime.datetime(2006, 2, 15, 4, 45, 25)), (200, 'Hamilton', 68, datetime.datetime(2006, 2, 15, 4, 45, 25)), (201, 'Hanoi', 105, datetime.datetime(2006, 2, 15, 4, 45, 25)), (202, 'Hidalgo', 60, datetime.datetime(2006, 2, 15, 4, 45, 25)), (203, 'Higashiosaka', 50, datetime.datetime(2006, 2, 15, 4, 45, 25)), (204, 'Hino', 50, datetime.datetime(2006, 2, 15, 4, 45, 25)), (205, 'Hiroshima', 50, datetime.datetime(2006, 2, 15, 4, 45, 25)), (206, 'Hodeida', 107, datetime.datetime(2006, 2, 15, 4, 45, 25)), (207, 'Hohhot', 23, datetime.datetime(2006, 2, 15, 4, 45, 25)), (208, 'Hoshiarpur', 44, datetime.datetime(2006, 2, 15, 4, 45, 25)), (209, 'Hsichuh', 92, datetime.datetime(2006, 2, 15, 4, 45, 25)), (210, 'Huai´an', 23, datetime.datetime(2006, 2, 15, 4, 45, 25)), (211, 'Hubli-Dharwad', 44, datetime.datetime(2006, 2, 15, 4, 45, 25)), (212, 'Huejutla de Reyes', 60, datetime.datetime(2006, 2, 15, 4, 45, 25)), (213, 'Huixquilucan', 60, datetime.datetime(2006, 2, 15, 4, 45, 25)), (214, 'Huánuco', 74, datetime.datetime(2006, 2, 15, 4, 45, 25)), (215, 'Ibirité', 15, datetime.datetime(2006, 2, 15, 4, 45, 25)), (216, 'Idfu', 29, datetime.datetime(2006, 2, 15, 4, 45, 25)), (217, 'Ife', 69, datetime.datetime(2006, 2, 15, 4, 45, 25)), (218, 'Ikerre', 69, datetime.datetime(2006, 2, 15, 4, 45, 25)), (219, 'Iligan', 75, datetime.datetime(2006, 2, 15, 4, 45, 25)), (220, 'Ilorin', 69, datetime.datetime(2006, 2, 15, 4, 45, 25)), (221, 'Imus', 75, datetime.datetime(2006, 2, 15, 4, 45, 25)), (222, 'Inegöl', 97, datetime.datetime(2006, 2, 15, 4, 45, 25)), (223, 'Ipoh', 59, datetime.datetime(2006, 2, 15, 4, 45, 25)), (224, 'Isesaki', 50, datetime.datetime(2006, 2, 15, 4, 45, 25)), (225, 'Ivanovo', 80, datetime.datetime(2006, 2, 15, 4, 45, 25)), (226, 'Iwaki', 50, datetime.datetime(2006, 2, 15, 4, 45, 25)), (227, 'Iwakuni', 50, datetime.datetime(2006, 2, 15, 4, 45, 25)), (228, 'Iwatsuki', 50, datetime.datetime(2006, 2, 15, 4, 45, 25)), (229, 'Izumisano', 50, datetime.datetime(2006, 2, 15, 4, 45, 25)), (230, 'Jaffna', 88, datetime.datetime(2006, 2, 15, 4, 45, 25)), (231, 'Jaipur', 44, datetime.datetime(2006, 2, 15, 4, 45, 25)), (232, 'Jakarta', 45, datetime.datetime(2006, 2, 15, 4, 45, 25)), (233, 'Jalib al-Shuyukh', 53, datetime.datetime(2006, 2, 15, 4, 45, 25)), (234, 'Jamalpur', 12, datetime.datetime(2006, 2, 15, 4, 45, 25)), (235, 'Jaroslavl', 80, datetime.datetime(2006, 2, 15, 4, 45, 25)), (236, 'Jastrzebie-Zdrój', 76, datetime.datetime(2006, 2, 15, 4, 45, 25)), (237, 'Jedda', 82, datetime.datetime(2006, 2, 15, 4, 45, 25)), (238, 'Jelets', 80, datetime.datetime(2006, 2, 15, 4, 45, 25)), (239, 'Jhansi', 44, datetime.datetime(2006, 2, 15, 4, 45, 25)), (240, 'Jinchang', 23, datetime.datetime(2006, 2, 15, 4, 45, 25)), (241, 'Jining', 23, datetime.datetime(2006, 2, 15, 4, 45, 25)), (242, 'Jinzhou', 23, datetime.datetime(2006, 2, 15, 4, 45, 25)), (243, 'Jodhpur', 44, datetime.datetime(2006, 2, 15, 4, 45, 25)), (244, 'Johannesburg', 85, datetime.datetime(2006, 2, 15, 4, 45, 25)), (245, 'Joliet', 103, datetime.datetime(2006, 2, 15, 4, 45, 25)), (246, 'José Azueta', 60, datetime.datetime(2006, 2, 15, 4, 45, 25)), (247, 'Juazeiro do Norte', 15, datetime.datetime(2006, 2, 15, 4, 45, 25)), (248, 'Juiz de Fora', 15, datetime.datetime(2006, 2, 15, 4, 45, 25)), (249, 'Junan', 23, datetime.datetime(2006, 2, 15, 4, 45, 25)), (250, 'Juárez', 60, datetime.datetime(2006, 2, 15, 4, 45, 25)), (251, 'Kabul', 1, datetime.datetime(2006, 2, 15, 4, 45, 25)), (252, 'Kaduna', 69, datetime.datetime(2006, 2, 15, 4, 45, 25)), (253, 'Kakamigahara', 50, datetime.datetime(2006, 2, 15, 4, 45, 25)), (254, 'Kaliningrad', 80, datetime.datetime(2006, 2, 15, 4, 45, 25)), (255, 'Kalisz', 76, datetime.datetime(2006, 2, 15, 4, 45, 25)), (256, 'Kamakura', 50, datetime.datetime(2006, 2, 15, 4, 45, 25)), (257, 'Kamarhati', 44, datetime.datetime(2006, 2, 15, 4, 45, 25)), (258, 'Kamjanets-Podilskyi', 100, datetime.datetime(2006, 2, 15, 4, 45, 25)), (259, 'Kamyšin', 80, datetime.datetime(2006, 2, 15, 4, 45, 25)), (260, 'Kanazawa', 50, datetime.datetime(2006, 2, 15, 4, 45, 25)), (261, 'Kanchrapara', 44, datetime.datetime(2006, 2, 15, 4, 45, 25)), (262, 'Kansas City', 103, datetime.datetime(2006, 2, 15, 4, 45, 25)), (263, 'Karnal', 44, datetime.datetime(2006, 2, 15, 4, 45, 25)), (264, 'Katihar', 44, datetime.datetime(2006, 2, 15, 4, 45, 25)), (265, 'Kermanshah', 46, datetime.datetime(2006, 2, 15, 4, 45, 25)), (266, 'Kilis', 97, datetime.datetime(2006, 2, 15, 4, 45, 25)), (267, 'Kimberley', 85, datetime.datetime(2006, 2, 15, 4, 45, 25)), (268, 'Kimchon', 86, datetime.datetime(2006, 2, 15, 4, 45, 25)), (269, 'Kingstown', 81, datetime.datetime(2006, 2, 15, 4, 45, 25)), (270, 'Kirovo-Tšepetsk', 80, datetime.datetime(2006, 2, 15, 4, 45, 25)), (271, 'Kisumu', 52, datetime.datetime(2006, 2, 15, 4, 45, 25)), (272, 'Kitwe', 109, datetime.datetime(2006, 2, 15, 4, 45, 25)), (273, 'Klerksdorp', 85, datetime.datetime(2006, 2, 15, 4, 45, 25)), (274, 'Kolpino', 80, datetime.datetime(2006, 2, 15, 4, 45, 25)), (275, 'Konotop', 100, datetime.datetime(2006, 2, 15, 4, 45, 25)), (276, 'Koriyama', 50, datetime.datetime(2006, 2, 15, 4, 45, 25)), (277, 'Korla', 23, datetime.datetime(2006, 2, 15, 4, 45, 25)), (278, 'Korolev', 80, datetime.datetime(2006, 2, 15, 4, 45, 25)), (279, 'Kowloon and New Kowloon', 42, datetime.datetime(2006, 2, 15, 4, 45, 25)), (280, 'Kragujevac', 108, datetime.datetime(2006, 2, 15, 4, 45, 25)), (281, 'Kütahya', 97, datetime.datetime(2006, 2, 15, 4, 45, 25)), (282, 'Kuching', 59, datetime.datetime(2006, 2, 15, 4, 45, 25)), (283, 'Kumbakonam', 44, datetime.datetime(2006, 2, 15, 4, 45, 25)), (284, 'Kurashiki', 50, datetime.datetime(2006, 2, 15, 4, 45, 25)), (285, 'Kurgan', 80, datetime.datetime(2006, 2, 15, 4, 45, 25)), (286, 'Kursk', 80, datetime.datetime(2006, 2, 15, 4, 45, 25)), (287, 'Kuwana', 50, datetime.datetime(2006, 2, 15, 4, 45, 25)), (288, 'La Paz', 60, datetime.datetime(2006, 2, 15, 4, 45, 25)), (289, 'La Plata', 6, datetime.datetime(2006, 2, 15, 4, 45, 25)), (290, 'La Romana', 27, datetime.datetime(2006, 2, 15, 4, 45, 25)), (291, 'Laiwu', 23, datetime.datetime(2006, 2, 15, 4, 45, 25)), (292, 'Lancaster', 103, datetime.datetime(2006, 2, 15, 4, 45, 25)), (293, 'Laohekou', 23, datetime.datetime(2006, 2, 15, 4, 45, 25)), (294, 'Lapu-Lapu', 75, datetime.datetime(2006, 2, 15, 4, 45, 25)), (295, 'Laredo', 103, datetime.datetime(2006, 2, 15, 4, 45, 25)), (296, 'Lausanne', 91, datetime.datetime(2006, 2, 15, 4, 45, 25)), (297, 'Le Mans', 34, datetime.datetime(2006, 2, 15, 4, 45, 25)), (298, 'Lengshuijiang', 23, datetime.datetime(2006, 2, 15, 4, 45, 25)), (299, 'Leshan', 23, datetime.datetime(2006, 2, 15, 4, 45, 25)), (300, 'Lethbridge', 20, datetime.datetime(2006, 2, 15, 4, 45, 25)), (301, 'Lhokseumawe', 45, datetime.datetime(2006, 2, 15, 4, 45, 25)), (302, 'Liaocheng', 23, datetime.datetime(2006, 2, 15, 4, 45, 25)), (303, 'Liepaja', 54, datetime.datetime(2006, 2, 15, 4, 45, 25)), (304, 'Lilongwe', 58, datetime.datetime(2006, 2, 15, 4, 45, 25)), (305, 'Lima', 74, datetime.datetime(2006, 2, 15, 4, 45, 25)), (306, 'Lincoln', 103, datetime.datetime(2006, 2, 15, 4, 45, 25)), (307, 'Linz', 9, datetime.datetime(2006, 2, 15, 4, 45, 25)), (308, 'Lipetsk', 80, datetime.datetime(2006, 2, 15, 4, 45, 25)), (309, 'Livorno', 49, datetime.datetime(2006, 2, 15, 4, 45, 25)), (310, 'Ljubertsy', 80, datetime.datetime(2006, 2, 15, 4, 45, 25)), (311, 'Loja', 28, datetime.datetime(2006, 2, 15, 4, 45, 25)), (312, 'London', 102, datetime.datetime(2006, 2, 15, 4, 45, 25)), (313, 'London', 20, datetime.datetime(2006, 2, 15, 4, 45, 25)), (314, 'Lublin', 76, datetime.datetime(2006, 2, 15, 4, 45, 25)), (315, 'Lubumbashi', 25, datetime.datetime(2006, 2, 15, 4, 45, 25)), (316, 'Lungtan', 92, datetime.datetime(2006, 2, 15, 4, 45, 25)), (317, 'Luziânia', 15, datetime.datetime(2006, 2, 15, 4, 45, 25)), (318, 'Madiun', 45, datetime.datetime(2006, 2, 15, 4, 45, 25)), (319, 'Mahajanga', 57, datetime.datetime(2006, 2, 15, 4, 45, 25)), (320, 'Maikop', 80, datetime.datetime(2006, 2, 15, 4, 45, 25)), (321, 'Malmö', 90, datetime.datetime(2006, 2, 15, 4, 45, 25)), (322, 'Manchester', 103, datetime.datetime(2006, 2, 15, 4, 45, 25)), (323, 'Mandaluyong', 75, datetime.datetime(2006, 2, 15, 4, 45, 25)), (324, 'Mandi Bahauddin', 72, datetime.datetime(2006, 2, 15, 4, 45, 25)), (325, 'Mannheim', 38, datetime.datetime(2006, 2, 15, 4, 45, 25)), (326, 'Maracaíbo', 104, datetime.datetime(2006, 2, 15, 4, 45, 25)), (327, 'Mardan', 72, datetime.datetime(2006, 2, 15, 4, 45, 25)), (328, 'Maringá', 15, datetime.datetime(2006, 2, 15, 4, 45, 25)), (329, 'Masqat', 71, datetime.datetime(2006, 2, 15, 4, 45, 25)), (330, 'Matamoros', 60, datetime.datetime(2006, 2, 15, 4, 45, 25)), (331, 'Matsue', 50, datetime.datetime(2006, 2, 15, 4, 45, 25)), (332, 'Meixian', 23, datetime.datetime(2006, 2, 15, 4, 45, 25)), (333, 'Memphis', 103, datetime.datetime(2006, 2, 15, 4, 45, 25)), (334, 'Merlo', 6, datetime.datetime(2006, 2, 15, 4, 45, 25)), (335, 'Mexicali', 60, datetime.datetime(2006, 2, 15, 4, 45, 25)), (336, 'Miraj', 44, datetime.datetime(2006, 2, 15, 4, 45, 25)), (337, 'Mit Ghamr', 29, datetime.datetime(2006, 2, 15, 4, 45, 25)), (338, 'Miyakonojo', 50, datetime.datetime(2006, 2, 15, 4, 45, 25)), (339, 'Mogiljov', 13, datetime.datetime(2006, 2, 15, 4, 45, 25)), (340, 'Molodetšno', 13, datetime.datetime(2006, 2, 15, 4, 45, 25)), (341, 'Monclova', 60, datetime.datetime(2006, 2, 15, 4, 45, 25)), (342, 'Monywa', 64, datetime.datetime(2006, 2, 15, 4, 45, 25)), (343, 'Moscow', 80, datetime.datetime(2006, 2, 15, 4, 45, 25)), (344, 'Mosul', 47, datetime.datetime(2006, 2, 15, 4, 45, 25)), (345, 'Mukatševe', 100, datetime.datetime(2006, 2, 15, 4, 45, 25)), (346, 'Munger (Monghyr)', 44, datetime.datetime(2006, 2, 15, 4, 45, 25)), (347, 'Mwanza', 93, datetime.datetime(2006, 2, 15, 4, 45, 25)), (348, 'Mwene-Ditu', 25, datetime.datetime(2006, 2, 15, 4, 45, 25)), (349, 'Myingyan', 64, datetime.datetime(2006, 2, 15, 4, 45, 25)), (350, 'Mysore', 44, datetime.datetime(2006, 2, 15, 4, 45, 25)), (351, 'Naçala-Porto', 63, datetime.datetime(2006, 2, 15, 4, 45, 25)), (352, 'Nabereznyje Tšelny', 80, datetime.datetime(2006, 2, 15, 4, 45, 25)), (353, 'Nador', 62, datetime.datetime(2006, 2, 15, 4, 45, 25)), (354, 'Nagaon', 44, datetime.datetime(2006, 2, 15, 4, 45, 25)), (355, 'Nagareyama', 50, datetime.datetime(2006, 2, 15, 4, 45, 25)), (356, 'Najafabad', 46, datetime.datetime(2006, 2, 15, 4, 45, 25)), (357, 'Naju', 86, datetime.datetime(2006, 2, 15, 4, 45, 25)), (358, 'Nakhon Sawan', 94, datetime.datetime(2006, 2, 15, 4, 45, 25)), (359, 'Nam Dinh', 105, datetime.datetime(2006, 2, 15, 4, 45, 25)), (360, 'Namibe', 4, datetime.datetime(2006, 2, 15, 4, 45, 25)), (361, 'Nantou', 92, datetime.datetime(2006, 2, 15, 4, 45, 25)), (362, 'Nanyang', 23, datetime.datetime(2006, 2, 15, 4, 45, 25)), (363, 'NDjamna', 21, datetime.datetime(2006, 2, 15, 4, 45, 25)), (364, 'Newcastle', 85, datetime.datetime(2006, 2, 15, 4, 45, 25)), (365, 'Nezahualcóyotl', 60, datetime.datetime(2006, 2, 15, 4, 45, 25)), (366, 'Nha Trang', 105, datetime.datetime(2006, 2, 15, 4, 45, 25)), (367, 'Niznekamsk', 80, datetime.datetime(2006, 2, 15, 4, 45, 25)), (368, 'Novi Sad', 108, datetime.datetime(2006, 2, 15, 4, 45, 25)), (369, 'Novotšerkassk', 80, datetime.datetime(2006, 2, 15, 4, 45, 25)), (370, 'Nuku´alofa', 95, datetime.datetime(2006, 2, 15, 4, 45, 25)), (371, 'Nuuk', 40, datetime.datetime(2006, 2, 15, 4, 45, 25)), (372, 'Nyeri', 52, datetime.datetime(2006, 2, 15, 4, 45, 25)), (373, 'Ocumare del Tuy', 104, datetime.datetime(2006, 2, 15, 4, 45, 25)), (374, 'Ogbomosho', 69, datetime.datetime(2006, 2, 15, 4, 45, 25)), (375, 'Okara', 72, datetime.datetime(2006, 2, 15, 4, 45, 25)), (376, 'Okayama', 50, datetime.datetime(2006, 2, 15, 4, 45, 25)), (377, 'Okinawa', 50, datetime.datetime(2006, 2, 15, 4, 45, 25)), (378, 'Olomouc', 26, datetime.datetime(2006, 2, 15, 4, 45, 25)), (379, 'Omdurman', 89, datetime.datetime(2006, 2, 15, 4, 45, 25)), (380, 'Omiya', 50, datetime.datetime(2006, 2, 15, 4, 45, 25)), (381, 'Ondo', 69, datetime.datetime(2006, 2, 15, 4, 45, 25)), (382, 'Onomichi', 50, datetime.datetime(2006, 2, 15, 4, 45, 25)), (383, 'Oshawa', 20, datetime.datetime(2006, 2, 15, 4, 45, 25)), (384, 'Osmaniye', 97, datetime.datetime(2006, 2, 15, 4, 45, 25)), (385, 'Šostka', 100, datetime.datetime(2006, 2, 15, 4, 45, 25)), (386, 'Otsu', 50, datetime.datetime(2006, 2, 15, 4, 45, 25)), (387, 'Oulu', 33, datetime.datetime(2006, 2, 15, 4, 45, 25)), (388, 'Ourense (Orense)', 87, datetime.datetime(2006, 2, 15, 4, 45, 25)), (389, 'Owo', 69, datetime.datetime(2006, 2, 15, 4, 45, 25)), (390, 'Oyo', 69, datetime.datetime(2006, 2, 15, 4, 45, 25)), (391, 'Ozamis', 75, datetime.datetime(2006, 2, 15, 4, 45, 25)), (392, 'Paarl', 85, datetime.datetime(2006, 2, 15, 4, 45, 25)), (393, 'Pachuca de Soto', 60, datetime.datetime(2006, 2, 15, 4, 45, 25)), (394, 'Pak Kret', 94, datetime.datetime(2006, 2, 15, 4, 45, 25)), (395, 'Palghat (Palakkad)', 44, datetime.datetime(2006, 2, 15, 4, 45, 25)), (396, 'Pangkal Pinang', 45, datetime.datetime(2006, 2, 15, 4, 45, 25)), (397, 'Papeete', 36, datetime.datetime(2006, 2, 15, 4, 45, 25)), (398, 'Parbhani', 44, datetime.datetime(2006, 2, 15, 4, 45, 25)), (399, 'Pathankot', 44, datetime.datetime(2006, 2, 15, 4, 45, 25)), (400, 'Patiala', 44, datetime.datetime(2006, 2, 15, 4, 45, 25)), (401, 'Patras', 39, datetime.datetime(2006, 2, 15, 4, 45, 25)), (402, 'Pavlodar', 51, datetime.datetime(2006, 2, 15, 4, 45, 25)), (403, 'Pemalang', 45, datetime.datetime(2006, 2, 15, 4, 45, 25)), (404, 'Peoria', 103, datetime.datetime(2006, 2, 15, 4, 45, 25)), (405, 'Pereira', 24, datetime.datetime(2006, 2, 15, 4, 45, 25)), (406, 'Phnom Penh', 18, datetime.datetime(2006, 2, 15, 4, 45, 25)), (407, 'Pingxiang', 23, datetime.datetime(2006, 2, 15, 4, 45, 25)), (408, 'Pjatigorsk', 80, datetime.datetime(2006, 2, 15, 4, 45, 25)), (409, 'Plock', 76, datetime.datetime(2006, 2, 15, 4, 45, 25)), (410, 'Poá', 15, datetime.datetime(2006, 2, 15, 4, 45, 25)), (411, 'Ponce', 77, datetime.datetime(2006, 2, 15, 4, 45, 25)), (412, 'Pontianak', 45, datetime.datetime(2006, 2, 15, 4, 45, 25)), (413, 'Poços de Caldas', 15, datetime.datetime(2006, 2, 15, 4, 45, 25)), (414, 'Portoviejo', 28, datetime.datetime(2006, 2, 15, 4, 45, 25)), (415, 'Probolinggo', 45, datetime.datetime(2006, 2, 15, 4, 45, 25)), (416, 'Pudukkottai', 44, datetime.datetime(2006, 2, 15, 4, 45, 25)), (417, 'Pune', 44, datetime.datetime(2006, 2, 15, 4, 45, 25)), (418, 'Purnea (Purnia)', 44, datetime.datetime(2006, 2, 15, 4, 45, 25)), (419, 'Purwakarta', 45, datetime.datetime(2006, 2, 15, 4, 45, 25)), (420, 'Pyongyang', 70, datetime.datetime(2006, 2, 15, 4, 45, 25)), (421, 'Qalyub', 29, datetime.datetime(2006, 2, 15, 4, 45, 25)), (422, 'Qinhuangdao', 23, datetime.datetime(2006, 2, 15, 4, 45, 25)), (423, 'Qomsheh', 46, datetime.datetime(2006, 2, 15, 4, 45, 25)), (424, 'Quilmes', 6, datetime.datetime(2006, 2, 15, 4, 45, 25)), (425, 'Rae Bareli', 44, datetime.datetime(2006, 2, 15, 4, 45, 25)), (426, 'Rajkot', 44, datetime.datetime(2006, 2, 15, 4, 45, 25)), (427, 'Rampur', 44, datetime.datetime(2006, 2, 15, 4, 45, 25)), (428, 'Rancagua', 22, datetime.datetime(2006, 2, 15, 4, 45, 25)), (429, 'Ranchi', 44, datetime.datetime(2006, 2, 15, 4, 45, 25)), (430, 'Richmond Hill', 20, datetime.datetime(2006, 2, 15, 4, 45, 25)), (431, 'Rio Claro', 15, datetime.datetime(2006, 2, 15, 4, 45, 25)), (432, 'Rizhao', 23, datetime.datetime(2006, 2, 15, 4, 45, 25)), (433, 'Roanoke', 103, datetime.datetime(2006, 2, 15, 4, 45, 25)), (434, 'Ríobamba', 28, datetime.datetime(2006, 2, 15, 4, 45, 25)), (435, 'Rockford', 103, datetime.datetime(2006, 2, 15, 4, 45, 25)), (436, 'Ruse', 17, datetime.datetime(2006, 2, 15, 4, 45, 25)), (437, 'Rustenburg', 85, datetime.datetime(2006, 2, 15, 4, 45, 25)), (438, '´s-Hertogenbosch', 67, datetime.datetime(2006, 2, 15, 4, 45, 25)), (439, 'Saarbrücken', 38, datetime.datetime(2006, 2, 15, 4, 45, 25)), (440, 'Sagamihara', 50, datetime.datetime(2006, 2, 15, 4, 45, 25)), (441, 'Saint Louis', 103, datetime.datetime(2006, 2, 15, 4, 45, 25)), (442, 'Saint-Denis', 79, datetime.datetime(2006, 2, 15, 4, 45, 25)), (443, 'Salé', 62, datetime.datetime(2006, 2, 15, 4, 45, 25)), (444, 'Salala', 71, datetime.datetime(2006, 2, 15, 4, 45, 25)), (445, 'Salamanca', 60, datetime.datetime(2006, 2, 15, 4, 45, 25)), (446, 'Salinas', 103, datetime.datetime(2006, 2, 15, 4, 45, 25)), (447, 'Salzburg', 9, datetime.datetime(2006, 2, 15, 4, 45, 25)), (448, 'Sambhal', 44, datetime.datetime(2006, 2, 15, 4, 45, 25)), (449, 'San Bernardino', 103, datetime.datetime(2006, 2, 15, 4, 45, 25)), (450, 'San Felipe de Puerto Plata', 27, datetime.datetime(2006, 2, 15, 4, 45, 25)), (451, 'San Felipe del Progreso', 60, datetime.datetime(2006, 2, 15, 4, 45, 25)), (452, 'San Juan Bautista Tuxtepec', 60, datetime.datetime(2006, 2, 15, 4, 45, 25)), (453, 'San Lorenzo', 73, datetime.datetime(2006, 2, 15, 4, 45, 25)), (454, 'San Miguel de Tucumán', 6, datetime.datetime(2006, 2, 15, 4, 45, 25)), (455, 'Sanaa', 107, datetime.datetime(2006, 2, 15, 4, 45, 25)), (456, 'Santa Brbara dOeste', 15, datetime.datetime(2006, 2, 15, 4, 45, 25)), (457, 'Santa Fé', 6, datetime.datetime(2006, 2, 15, 4, 45, 25)), (458, 'Santa Rosa', 75, datetime.datetime(2006, 2, 15, 4, 45, 25)), (459, 'Santiago de Compostela', 87, datetime.datetime(2006, 2, 15, 4, 45, 25)), (460, 'Santiago de los Caballeros', 27, datetime.datetime(2006, 2, 15, 4, 45, 25)), (461, 'Santo André', 15, datetime.datetime(2006, 2, 15, 4, 45, 25)), (462, 'Sanya', 23, datetime.datetime(2006, 2, 15, 4, 45, 25)), (463, 'Sasebo', 50, datetime.datetime(2006, 2, 15, 4, 45, 25)), (464, 'Satna', 44, datetime.datetime(2006, 2, 15, 4, 45, 25)), (465, 'Sawhaj', 29, datetime.datetime(2006, 2, 15, 4, 45, 25)), (466, 'Serpuhov', 80, datetime.datetime(2006, 2, 15, 4, 45, 25)), (467, 'Shahr-e Kord', 46, datetime.datetime(2006, 2, 15, 4, 45, 25)), (468, 'Shanwei', 23, datetime.datetime(2006, 2, 15, 4, 45, 25)), (469, 'Shaoguan', 23, datetime.datetime(2006, 2, 15, 4, 45, 25)), (470, 'Sharja', 101, datetime.datetime(2006, 2, 15, 4, 45, 25)), (471, 'Shenzhen', 23, datetime.datetime(2006, 2, 15, 4, 45, 25)), (472, 'Shikarpur', 72, datetime.datetime(2006, 2, 15, 4, 45, 25)), (473, 'Shimoga', 44, datetime.datetime(2006, 2, 15, 4, 45, 25)), (474, 'Shimonoseki', 50, datetime.datetime(2006, 2, 15, 4, 45, 25)), (475, 'Shivapuri', 44, datetime.datetime(2006, 2, 15, 4, 45, 25)), (476, 'Shubra al-Khayma', 29, datetime.datetime(2006, 2, 15, 4, 45, 25)), (477, 'Siegen', 38, datetime.datetime(2006, 2, 15, 4, 45, 25)), (478, 'Siliguri (Shiliguri)', 44, datetime.datetime(2006, 2, 15, 4, 45, 25)), (479, 'Simferopol', 100, datetime.datetime(2006, 2, 15, 4, 45, 25)), (480, 'Sincelejo', 24, datetime.datetime(2006, 2, 15, 4, 45, 25)), (481, 'Sirjan', 46, datetime.datetime(2006, 2, 15, 4, 45, 25)), (482, 'Sivas', 97, datetime.datetime(2006, 2, 15, 4, 45, 25)), (483, 'Skikda', 2, datetime.datetime(2006, 2, 15, 4, 45, 25)), (484, 'Smolensk', 80, datetime.datetime(2006, 2, 15, 4, 45, 25)), (485, 'São Bernardo do Campo', 15, datetime.datetime(2006, 2, 15, 4, 45, 25)), (486, 'São Leopoldo', 15, datetime.datetime(2006, 2, 15, 4, 45, 25)), (487, 'Sogamoso', 24, datetime.datetime(2006, 2, 15, 4, 45, 25)), (488, 'Sokoto', 69, datetime.datetime(2006, 2, 15, 4, 45, 25)), (489, 'Songkhla', 94, datetime.datetime(2006, 2, 15, 4, 45, 25)), (490, 'Sorocaba', 15, datetime.datetime(2006, 2, 15, 4, 45, 25)), (491, 'Soshanguve', 85, datetime.datetime(2006, 2, 15, 4, 45, 25)), (492, 'Sousse', 96, datetime.datetime(2006, 2, 15, 4, 45, 25)), (493, 'South Hill', 5, datetime.datetime(2006, 2, 15, 4, 45, 25)), (494, 'Southampton', 102, datetime.datetime(2006, 2, 15, 4, 45, 25)), (495, 'Southend-on-Sea', 102, datetime.datetime(2006, 2, 15, 4, 45, 25)), (496, 'Southport', 102, datetime.datetime(2006, 2, 15, 4, 45, 25)), (497, 'Springs', 85, datetime.datetime(2006, 2, 15, 4, 45, 25)), (498, 'Stara Zagora', 17, datetime.datetime(2006, 2, 15, 4, 45, 25)), (499, 'Sterling Heights', 103, datetime.datetime(2006, 2, 15, 4, 45, 25)), (500, 'Stockport', 102, datetime.datetime(2006, 2, 15, 4, 45, 25)), (501, 'Sucre', 14, datetime.datetime(2006, 2, 15, 4, 45, 25)), (502, 'Suihua', 23, datetime.datetime(2006, 2, 15, 4, 45, 25)), (503, 'Sullana', 74, datetime.datetime(2006, 2, 15, 4, 45, 25)), (504, 'Sultanbeyli', 97, datetime.datetime(2006, 2, 15, 4, 45, 25)), (505, 'Sumqayit', 10, datetime.datetime(2006, 2, 15, 4, 45, 25)), (506, 'Sumy', 100, datetime.datetime(2006, 2, 15, 4, 45, 25)), (507, 'Sungai Petani', 59, datetime.datetime(2006, 2, 15, 4, 45, 25)), (508, 'Sunnyvale', 103, datetime.datetime(2006, 2, 15, 4, 45, 25)), (509, 'Surakarta', 45, datetime.datetime(2006, 2, 15, 4, 45, 25)), (510, 'Syktyvkar', 80, datetime.datetime(2006, 2, 15, 4, 45, 25)), (511, 'Syrakusa', 49, datetime.datetime(2006, 2, 15, 4, 45, 25)), (512, 'Székesfehérvár', 43, datetime.datetime(2006, 2, 15, 4, 45, 25)), (513, 'Tabora', 93, datetime.datetime(2006, 2, 15, 4, 45, 25)), (514, 'Tabriz', 46, datetime.datetime(2006, 2, 15, 4, 45, 25)), (515, 'Tabuk', 82, datetime.datetime(2006, 2, 15, 4, 45, 25)), (516, 'Tafuna', 3, datetime.datetime(2006, 2, 15, 4, 45, 25)), (517, 'Taguig', 75, datetime.datetime(2006, 2, 15, 4, 45, 25)), (518, 'Taizz', 107, datetime.datetime(2006, 2, 15, 4, 45, 25)), (519, 'Talavera', 75, datetime.datetime(2006, 2, 15, 4, 45, 25)), (520, 'Tallahassee', 103, datetime.datetime(2006, 2, 15, 4, 45, 25)), (521, 'Tama', 50, datetime.datetime(2006, 2, 15, 4, 45, 25)), (522, 'Tambaram', 44, datetime.datetime(2006, 2, 15, 4, 45, 25)), (523, 'Tanauan', 75, datetime.datetime(2006, 2, 15, 4, 45, 25)), (524, 'Tandil', 6, datetime.datetime(2006, 2, 15, 4, 45, 25)), (525, 'Tangail', 12, datetime.datetime(2006, 2, 15, 4, 45, 25)), (526, 'Tanshui', 92, datetime.datetime(2006, 2, 15, 4, 45, 25)), (527, 'Tanza', 75, datetime.datetime(2006, 2, 15, 4, 45, 25)), (528, 'Tarlac', 75, datetime.datetime(2006, 2, 15, 4, 45, 25)), (529, 'Tarsus', 97, datetime.datetime(2006, 2, 15, 4, 45, 25)), (530, 'Tartu', 30, datetime.datetime(2006, 2, 15, 4, 45, 25)), (531, 'Tšeboksary', 80, datetime.datetime(2006, 2, 15, 4, 45, 25)), (532, 'Tegal', 45, datetime.datetime(2006, 2, 15, 4, 45, 25)), (533, 'Tel Aviv-Jaffa', 48, datetime.datetime(2006, 2, 15, 4, 45, 25)), (534, 'Tete', 63, datetime.datetime(2006, 2, 15, 4, 45, 25)), (535, 'Tianjin', 23, datetime.datetime(2006, 2, 15, 4, 45, 25)), (536, 'Tiefa', 23, datetime.datetime(2006, 2, 15, 4, 45, 25)), (537, 'Tieli', 23, datetime.datetime(2006, 2, 15, 4, 45, 25)), (538, 'Tokat', 97, datetime.datetime(2006, 2, 15, 4, 45, 25)), (539, 'Tonghae', 86, datetime.datetime(2006, 2, 15, 4, 45, 25)), (540, 'Tongliao', 23, datetime.datetime(2006, 2, 15, 4, 45, 25)), (541, 'Torreón', 60, datetime.datetime(2006, 2, 15, 4, 45, 25)), (542, 'Touliu', 92, datetime.datetime(2006, 2, 15, 4, 45, 25)), (543, 'Toulon', 34, datetime.datetime(2006, 2, 15, 4, 45, 25)), (544, 'Toulouse', 34, datetime.datetime(2006, 2, 15, 4, 45, 25)), (545, 'Tórshavn', 32, datetime.datetime(2006, 2, 15, 4, 45, 25)), (546, 'Tsaotun', 92, datetime.datetime(2006, 2, 15, 4, 45, 25)), (547, 'Tsuyama', 50, datetime.datetime(2006, 2, 15, 4, 45, 25)), (548, 'Tuguegarao', 75, datetime.datetime(2006, 2, 15, 4, 45, 25)), (549, 'Tychy', 76, datetime.datetime(2006, 2, 15, 4, 45, 25)), (550, 'Udaipur', 44, datetime.datetime(2006, 2, 15, 4, 45, 25)), (551, 'Udine', 49, datetime.datetime(2006, 2, 15, 4, 45, 25)), (552, 'Ueda', 50, datetime.datetime(2006, 2, 15, 4, 45, 25)), (553, 'Uijongbu', 86, datetime.datetime(2006, 2, 15, 4, 45, 25)), (554, 'Uluberia', 44, datetime.datetime(2006, 2, 15, 4, 45, 25)), (555, 'Urawa', 50, datetime.datetime(2006, 2, 15, 4, 45, 25)), (556, 'Uruapan', 60, datetime.datetime(2006, 2, 15, 4, 45, 25)), (557, 'Usak', 97, datetime.datetime(2006, 2, 15, 4, 45, 25)), (558, 'Usolje-Sibirskoje', 80, datetime.datetime(2006, 2, 15, 4, 45, 25)), (559, 'Uttarpara-Kotrung', 44, datetime.datetime(2006, 2, 15, 4, 45, 25)), (560, 'Vaduz', 55, datetime.datetime(2006, 2, 15, 4, 45, 25)), (561, 'Valencia', 104, datetime.datetime(2006, 2, 15, 4, 45, 25)), (562, 'Valle de la Pascua', 104, datetime.datetime(2006, 2, 15, 4, 45, 25)), (563, 'Valle de Santiago', 60, datetime.datetime(2006, 2, 15, 4, 45, 25)), (564, 'Valparai', 44, datetime.datetime(2006, 2, 15, 4, 45, 25)), (565, 'Vancouver', 20, datetime.datetime(2006, 2, 15, 4, 45, 25)), (566, 'Varanasi (Benares)', 44, datetime.datetime(2006, 2, 15, 4, 45, 25)), (567, 'Vicente López', 6, datetime.datetime(2006, 2, 15, 4, 45, 25)), (568, 'Vijayawada', 44, datetime.datetime(2006, 2, 15, 4, 45, 25)), (569, 'Vila Velha', 15, datetime.datetime(2006, 2, 15, 4, 45, 25)), (570, 'Vilnius', 56, datetime.datetime(2006, 2, 15, 4, 45, 25)), (571, 'Vinh', 105, datetime.datetime(2006, 2, 15, 4, 45, 25)), (572, 'Vitória de Santo Antão', 15, datetime.datetime(2006, 2, 15, 4, 45, 25)), (573, 'Warren', 103, datetime.datetime(2006, 2, 15, 4, 45, 25)), (574, 'Weifang', 23, datetime.datetime(2006, 2, 15, 4, 45, 25)), (575, 'Witten', 38, datetime.datetime(2006, 2, 15, 4, 45, 25)), (576, 'Woodridge', 8, datetime.datetime(2006, 2, 15, 4, 45, 25)), (577, 'Wroclaw', 76, datetime.datetime(2006, 2, 15, 4, 45, 25)), (578, 'Xi´angfan', 23, datetime.datetime(2006, 2, 15, 4, 45, 25)), (579, 'Xi´angtan', 23, datetime.datetime(2006, 2, 15, 4, 45, 25)), (580, 'Xintai', 23, datetime.datetime(2006, 2, 15, 4, 45, 25)), (581, 'Xinxiang', 23, datetime.datetime(2006, 2, 15, 4, 45, 25)), (582, 'Yamuna Nagar', 44, datetime.datetime(2006, 2, 15, 4, 45, 25)), (583, 'Yangor', 65, datetime.datetime(2006, 2, 15, 4, 45, 25)), (584, 'Yantai', 23, datetime.datetime(2006, 2, 15, 4, 45, 25)), (585, 'Yaoundé', 19, datetime.datetime(2006, 2, 15, 4, 45, 25)), (586, 'Yerevan', 7, datetime.datetime(2006, 2, 15, 4, 45, 25)), (587, 'Yinchuan', 23, datetime.datetime(2006, 2, 15, 4, 45, 25)), (588, 'Yingkou', 23, datetime.datetime(2006, 2, 15, 4, 45, 25)), (589, 'York', 102, datetime.datetime(2006, 2, 15, 4, 45, 25)), (590, 'Yuncheng', 23, datetime.datetime(2006, 2, 15, 4, 45, 25)), (591, 'Yuzhou', 23, datetime.datetime(2006, 2, 15, 4, 45, 25)), (592, 'Zalantun', 23, datetime.datetime(2006, 2, 15, 4, 45, 25)), (593, 'Zanzibar', 93, datetime.datetime(2006, 2, 15, 4, 45, 25)), (594, 'Zaoyang', 23, datetime.datetime(2006, 2, 15, 4, 45, 25)), (595, 'Zapopan', 60, datetime.datetime(2006, 2, 15, 4, 45, 25)), (596, 'Zaria', 69, datetime.datetime(2006, 2, 15, 4, 45, 25)), (597, 'Zeleznogorsk', 80, datetime.datetime(2006, 2, 15, 4, 45, 25)), (598, 'Zhezqazghan', 51, datetime.datetime(2006, 2, 15, 4, 45, 25)), (599, 'Zhoushan', 23, datetime.datetime(2006, 2, 15, 4, 45, 25)), (600, 'Ziguinchor', 83, datetime.datetime(2006, 2, 15, 4, 45, 25)))\n"
     ]
    }
   ],
   "source": [
    "import pymysql\n",
    "\n",
    "conn = pymysql.connect(\n",
    "    host=\"localhost\",\n",
    "    user=\"root\",\n",
    "    password=\"uSGN6x6p@l@q\",\n",
    "    database=\"sakila\"\n",
    ")\n",
    "\n",
    "cursor = conn.cursor()\n",
    "cursor.execute(\"SELECT * FROM city\")\n",
    "results = cursor.fetchall()\n",
    "print(results)\n",
    "\n",
    "cursor.close()\n",
    "conn.close()\n",
    "\n",
    "# Using pandas read_sql function is untested outside SQLAlchemy, so it'll throw a warning but still work\n",
    "# df = pd.read_sql(\"SELECT * FROM city\", conn)"
   ]
  },
  {
   "cell_type": "markdown",
   "metadata": {},
   "source": [
    "# Random excel code"
   ]
  },
  {
   "cell_type": "code",
   "execution_count": null,
   "metadata": {},
   "outputs": [],
   "source": [
    "prints = pd.read_excel(r\"C:\\Users\\Ryan\\Desktop\\EGR KDL Master 3D Printing List.xlsx\")\n",
    "\n",
    "df_to_postgresql(prints, \"prints\")"
   ]
  },
  {
   "cell_type": "code",
   "execution_count": null,
   "metadata": {},
   "outputs": [],
   "source": [
    "directory_save = (r\"C:\\Users\\Ryan\\Desktop\")\n",
    "file_name = f\"qp_career_stats.xlsx\" \n",
    "file_path = os.path.join(directory_save, file_name) \n",
    "\n",
    "qp_career_stats.to_excel(file_path , index=True)"
   ]
  }
 ],
 "metadata": {
  "kernelspec": {
   "display_name": "Python 3",
   "language": "python",
   "name": "python3"
  },
  "language_info": {
   "codemirror_mode": {
    "name": "ipython",
    "version": 3
   },
   "file_extension": ".py",
   "mimetype": "text/x-python",
   "name": "python",
   "nbconvert_exporter": "python",
   "pygments_lexer": "ipython3",
   "version": "3.10.11"
  }
 },
 "nbformat": 4,
 "nbformat_minor": 2
}
